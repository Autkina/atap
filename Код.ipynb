{
  "nbformat": 4,
  "nbformat_minor": 0,
  "metadata": {
    "colab": {
      "name": "Код.ipynb",
      "provenance": [],
      "authorship_tag": "ABX9TyMQSgc4ivvvVi4FZzo7qeFQ",
      "include_colab_link": true
    },
    "kernelspec": {
      "name": "python3",
      "display_name": "Python 3"
    }
  },
  "cells": [
    {
      "cell_type": "markdown",
      "metadata": {
        "id": "view-in-github",
        "colab_type": "text"
      },
      "source": [
        "<a href=\"https://colab.research.google.com/github/Autkina/atap/blob/master/%D0%9A%D0%BE%D0%B4.ipynb\" target=\"_parent\"><img src=\"https://colab.research.google.com/assets/colab-badge.svg\" alt=\"Open In Colab\"/></a>"
      ]
    },
    {
      "cell_type": "markdown",
      "metadata": {
        "id": "pFvFaQ2YotnF",
        "colab_type": "text"
      },
      "source": [
        "селектор для YT: {\"_id\":\"youtube\",\"startUrl\":[\"https://www.youtube.com/channel/UCMCgOm8GZkHp8zJ6l7_hIuA/videos\"],\"selectors\":[{\"id\":\"Links\",\"type\":\"SelectorLink\",\"parentSelectors\":[\"_root\"],\"selector\":\"a.ytd-grid-video-renderer\",\"multiple\":true,\"delay\":0},{\"id\":\"Views\",\"type\":\"SelectorText\",\"parentSelectors\":[\"Links\"],\"selector\":\"span.view-count\",\"multiple\":false,\"regex\":\"\",\"delay\":0},{\"id\":\"Likes\",\"type\":\"SelectorText\",\"parentSelectors\":[\"Links\"],\"selector\":\"ytd-toggle-button-renderer.ytd-menu-renderer:nth-of-type(1)\",\"multiple\":false,\"regex\":\"\",\"delay\":0},{\"id\":\"Dislikes\",\"type\":\"SelectorText\",\"parentSelectors\":[\"Links\"],\"selector\":\"ytd-toggle-button-renderer.ytd-menu-renderer:nth-of-type(2)\",\"multiple\":false,\"regex\":\"\",\"delay\":0},{\"id\":\"Scroll\",\"type\":\"SelectorElement\",\"parentSelectors\":[\"Scroll\"],\"selector\":\"yt-formatted-string.count-text\",\"multiple\":false,\"delay\":0},{\"id\":\"Comments\",\"type\":\"SelectorText\",\"parentSelectors\":[\"Scroll\"],\"selector\":\"yt-formatted-string.count-text\",\"multiple\":false,\"regex\":\"\",\"delay\":0},{\"id\":\"Scrolling\",\"type\":\"SelectorElementScroll\",\"parentSelectors\":[\"_root\",\"Links\"],\"selector\":\"ytd-comments\",\"multiple\":false,\"delay\":\"500\"}]}"
      ]
    },
    {
      "cell_type": "markdown",
      "metadata": {
        "id": "lrVBD-7Tr6Wc",
        "colab_type": "text"
      },
      "source": [
        "VK API"
      ]
    },
    {
      "cell_type": "code",
      "metadata": {
        "id": "OeFm4hgcy8Q5",
        "colab_type": "code",
        "colab": {}
      },
      "source": [
        "#Сервисный ключ доступа: 9190a1009190a1009190a100c591ff36fc991909190a100cfaf8cf693f94706f8e56d62"
      ],
      "execution_count": 0,
      "outputs": []
    },
    {
      "cell_type": "code",
      "metadata": {
        "id": "btWjW7FkzE0V",
        "colab_type": "code",
        "colab": {}
      },
      "source": [
        " import requests\n",
        " vvk = '5.103'\n",
        " s_key = '9190a1009190a1009190a100c591ff36fc991909190a100cfaf8cf693f94706f8e56d62'\n",
        " domain = 'clearspending'\n",
        " res_users = requests.get(f'https://api.vk.com/method/wall.get?domain={domain}&access_token={s_key}&v={vvk}')\n"
      ],
      "execution_count": 0,
      "outputs": []
    },
    {
      "cell_type": "code",
      "metadata": {
        "id": "aqwTCkZ72FlH",
        "colab_type": "code",
        "outputId": "94fe1f54-5b4f-4ee1-e583-67694bd6cd2c",
        "colab": {
          "base_uri": "https://localhost:8080/",
          "height": 88
        }
      },
      "source": [
        "url = 'https://api.vk.com/method/wall.get?domain={domain}&count=100&offset={offset}&access_token={s_key}&v={vvk}'\n",
        "texts = []\n",
        "for i in range(0, 301, 100):\n",
        "  url_formatted = url.format(domain=domain, s_key = s_key, vvk = vvk, offset = i)\n",
        "  print(i)\n",
        "  res_wall = requests.get(url_formatted)\n",
        "  for post in res_wall.json()[\"response\"]['items']:\n",
        "    texts.append(post[\"text\"])"
      ],
      "execution_count": 0,
      "outputs": [
        {
          "output_type": "stream",
          "text": [
            "0\n",
            "100\n",
            "200\n",
            "300\n"
          ],
          "name": "stdout"
        }
      ]
    },
    {
      "cell_type": "code",
      "metadata": {
        "id": "aK6evThp0uKt",
        "colab_type": "code",
        "colab": {}
      },
      "source": [
        "f = open('vk_texts.txt', 'w' )\n",
        "for text in texts:\n",
        "  f.write(text)\n",
        "f.close()\n",
        "    \t"
      ],
      "execution_count": 0,
      "outputs": []
    },
    {
      "cell_type": "code",
      "metadata": {
        "id": "M5qfSfyGCwTk",
        "colab_type": "code",
        "colab": {}
      },
      "source": [
        "with open(\"/content/vk_texts.txt\", encoding='utf-8') as file:  \n",
        "    content = file.readlines()"
      ],
      "execution_count": 0,
      "outputs": []
    },
    {
      "cell_type": "code",
      "metadata": {
        "id": "hU6sa5SEC0uM",
        "colab_type": "code",
        "outputId": "f5639816-4e3a-4cd8-cf46-ebf6b7be0bc2",
        "colab": {
          "base_uri": "https://localhost:8080/",
          "height": 215
        }
      },
      "source": [
        "import re\n",
        "content = [i for i in content if i!='\\n']\n",
        "for i in range(len(content)):  \n",
        "    content[i] = content[i].strip('\\n * * * \\t\\t.,:;-?!...\\\"\\'')\n",
        "    content[i] = re.sub(r'\\[.*?\\]', r'', content[i])\n",
        "    content[i] = re.sub(r'http.*?\\s', r'', content[i])\n",
        "content[0:10]"
      ],
      "execution_count": 0,
      "outputs": [
        {
          "output_type": "execute_result",
          "data": {
            "text/plain": [
              "['Ровно 5 лет назад, 4 февраля 2014 года, был открыт проект  «Госзатраты». Основная цель проекта - повышение прозрачности госфинансов и предоставление данных о госконтрактах. Все эти годы проект разрабатывался при поддержке АНО ',\n",
              " 'За первую пятилетку мы обработали и опубликовали более 32,5 млн госконтрактов и 96 тыс. субсидий из федерального бюджета. Сформировали профили 1,6 млн поставщиков и 316 тыс. заказчиков, 188 распределителей субсидий и 7 тыс. получателей субсидий. Автоматически выявили более 13 млн аномалий и неточностей в данных о государственных контрактах',\n",
              " 'Сайт проекта посетили 6,5 млн уникальных пользователей из 192 стран. Почти половина пользователей сайта - люди от 25 до 34 лет, а пик активности посещений совпадает с рабочим временем в будни',\n",
              " 'За эти годы мы опубликовали на сайте несколько сотен новостей, более 600 постов в Facebook и получили более 500 упоминаний в СМИ. Нашими подписчиками в Facebook стали 2000 человек, и мы всегда рады новым 😉',\n",
              " 'Были проведены несколько десятков мероприятий, в т.ч. хакатоны, лекции, вебинары, дата-среды, встречи с разработчиками, и подготовлены несколько десятков обращений в госорганы про открытые данные',\n",
              " 'Напоминаем наши основные ресурсы, на которых вы можете получать информацию о государственных финансах',\n",
              " '(сайт проекта «Госзатраты», на котором публикуются закупки, контракты, данные о поставщиках и заказчиках, доступны ежедневные дампы базы данных и ссылки на API)',\n",
              " '(спецпроект «Субсидии», содержащий данные о субсидиях из федерального бюджета, распределителях и получателях)',\n",
              " 'телеграм-бот @csParticipantStatsBot (делится статистикой госзаказа организации по ИНН)',\n",
              " 'телегам-бот @csDownloaderBot (формирует выборку контрактов по необходимым вам фильтрам)']"
            ]
          },
          "metadata": {
            "tags": []
          },
          "execution_count": 83
        }
      ]
    },
    {
      "cell_type": "code",
      "metadata": {
        "id": "EBUM5HjzDWrU",
        "colab_type": "code",
        "outputId": "45a8e3a7-c77b-4cee-e6c0-a12889663db5",
        "colab": {
          "base_uri": "https://localhost:8080/",
          "height": 212
        }
      },
      "source": [
        "!pip install pymorphy2\n",
        "\n",
        "import pymorphy2\n",
        "morph = pymorphy2.MorphAnalyzer()"
      ],
      "execution_count": 0,
      "outputs": [
        {
          "output_type": "stream",
          "text": [
            "Collecting pymorphy2\n",
            "\u001b[?25l  Downloading https://files.pythonhosted.org/packages/a3/33/fff9675c68b5f6c63ec8c6e6ff57827dda28a1fa5b2c2d727dffff92dd47/pymorphy2-0.8-py2.py3-none-any.whl (46kB)\n",
            "\r\u001b[K     |███████                         | 10kB 17.3MB/s eta 0:00:01\r\u001b[K     |██████████████▏                 | 20kB 1.7MB/s eta 0:00:01\r\u001b[K     |█████████████████████▎          | 30kB 2.3MB/s eta 0:00:01\r\u001b[K     |████████████████████████████▍   | 40kB 1.7MB/s eta 0:00:01\r\u001b[K     |████████████████████████████████| 51kB 1.7MB/s \n",
            "\u001b[?25hCollecting dawg-python>=0.7\n",
            "  Downloading https://files.pythonhosted.org/packages/6a/84/ff1ce2071d4c650ec85745766c0047ccc3b5036f1d03559fd46bb38b5eeb/DAWG_Python-0.7.2-py2.py3-none-any.whl\n",
            "Requirement already satisfied: docopt>=0.6 in /usr/local/lib/python3.6/dist-packages (from pymorphy2) (0.6.2)\n",
            "Collecting pymorphy2-dicts<3.0,>=2.4\n",
            "\u001b[?25l  Downloading https://files.pythonhosted.org/packages/02/51/2465fd4f72328ab50877b54777764d928da8cb15b74e2680fc1bd8cb3173/pymorphy2_dicts-2.4.393442.3710985-py2.py3-none-any.whl (7.1MB)\n",
            "\u001b[K     |████████████████████████████████| 7.1MB 5.6MB/s \n",
            "\u001b[?25hInstalling collected packages: dawg-python, pymorphy2-dicts, pymorphy2\n",
            "Successfully installed dawg-python-0.7.2 pymorphy2-0.8 pymorphy2-dicts-2.4.393442.3710985\n"
          ],
          "name": "stdout"
        }
      ]
    },
    {
      "cell_type": "code",
      "metadata": {
        "id": "oJpaUFtQDsSc",
        "colab_type": "code",
        "outputId": "cc74cb67-45a7-48a6-dedb-14de297cba66",
        "colab": {
          "base_uri": "https://localhost:8080/",
          "height": 212
        }
      },
      "source": [
        "words = {}\n",
        "for line_ in content:\n",
        "  for word in line_.split():\n",
        "    w=morph.parse(word)[0].normal_form\n",
        "    if w not in words: \n",
        "        words[w] = 1      \n",
        "    else:        \n",
        "        words[w] += 1\n",
        "print(len(words))\n",
        "sorted_by_value = sorted(words.items(), key=lambda kv: kv[1])\n",
        "sorted_by_value[-10:]"
      ],
      "execution_count": 0,
      "outputs": [
        {
          "output_type": "stream",
          "text": [
            "6375\n"
          ],
          "name": "stdout"
        },
        {
          "output_type": "execute_result",
          "data": {
            "text/plain": [
              "[('контракт', 174),\n",
              " ('дать', 188),\n",
              " ('рубль', 197),\n",
              " ('с', 223),\n",
              " ('о', 252),\n",
              " ('—', 285),\n",
              " ('по', 321),\n",
              " ('на', 625),\n",
              " ('и', 791),\n",
              " ('в', 894)]"
            ]
          },
          "metadata": {
            "tags": []
          },
          "execution_count": 86
        }
      ]
    },
    {
      "cell_type": "code",
      "metadata": {
        "id": "NAKGFWNQDypO",
        "colab_type": "code",
        "outputId": "9fee299c-e759-4941-be7f-8f34dd48a97a",
        "colab": {
          "base_uri": "https://localhost:8080/",
          "height": 212
        }
      },
      "source": [
        "long_words=[]\n",
        "for word in sorted_by_value:\n",
        "    if len(word[0])>3:\n",
        "        long_words.append(word)  \n",
        "print(len(long_words))\n",
        "long_words[-10:]"
      ],
      "execution_count": 0,
      "outputs": [
        {
          "output_type": "stream",
          "text": [
            "5804\n"
          ],
          "name": "stdout"
        },
        {
          "output_type": "execute_result",
          "data": {
            "text/plain": [
              "[('миллиард', 128),\n",
              " ('субсидия', 135),\n",
              " ('сайт', 135),\n",
              " ('федеральный', 140),\n",
              " ('миллион', 148),\n",
              " ('быть', 168),\n",
              " ('проект', 170),\n",
              " ('контракт', 174),\n",
              " ('дать', 188),\n",
              " ('рубль', 197)]"
            ]
          },
          "metadata": {
            "tags": []
          },
          "execution_count": 87
        }
      ]
    },
    {
      "cell_type": "code",
      "metadata": {
        "id": "fgDzQqR4D4Vu",
        "colab_type": "code",
        "outputId": "f13ea2e5-1929-4148-8c6d-78238592262b",
        "colab": {
          "base_uri": "https://localhost:8080/",
          "height": 212
        }
      },
      "source": [
        "verbs=[]\n",
        "for word in long_words:\n",
        "    f=morph.parse(word[0])[0]\n",
        "    if f.tag.POS=='INFN' or f.tag.POS=='VERB':\n",
        "        verbs.append(word)\n",
        "print(len(pushkin_verbs))\n",
        "verbs[-10:]"
      ],
      "execution_count": 0,
      "outputs": [
        {
          "output_type": "stream",
          "text": [
            "637\n"
          ],
          "name": "stdout"
        },
        {
          "output_type": "execute_result",
          "data": {
            "text/plain": [
              "[('стать', 24),\n",
              " ('опубликовать', 26),\n",
              " ('провести', 29),\n",
              " ('следовать', 32),\n",
              " ('заключить', 37),\n",
              " ('получить', 40),\n",
              " ('потратить', 48),\n",
              " ('подписать', 66),\n",
              " ('быть', 168),\n",
              " ('дать', 188)]"
            ]
          },
          "metadata": {
            "tags": []
          },
          "execution_count": 89
        }
      ]
    },
    {
      "cell_type": "code",
      "metadata": {
        "id": "I5cDEQrgEEWI",
        "colab_type": "code",
        "outputId": "2c241ae8-495b-4104-dda4-a8366ca5a317",
        "colab": {
          "base_uri": "https://localhost:8080/",
          "height": 212
        }
      },
      "source": [
        "nouns=[]\n",
        "for word in long_words:\n",
        "    f=morph.parse(word[0])[0]\n",
        "    if f.tag.POS=='NOUN':\n",
        "        nouns.append(word)\n",
        "print(len(nouns))\n",
        "nouns[-10:]"
      ],
      "execution_count": 0,
      "outputs": [
        {
          "output_type": "stream",
          "text": [
            "1780\n"
          ],
          "name": "stdout"
        },
        {
          "output_type": "execute_result",
          "data": {
            "text/plain": [
              "[('бюджет', 85),\n",
              " ('средство', 90),\n",
              " ('соглашение', 93),\n",
              " ('миллиард', 128),\n",
              " ('субсидия', 135),\n",
              " ('сайт', 135),\n",
              " ('миллион', 148),\n",
              " ('проект', 170),\n",
              " ('контракт', 174),\n",
              " ('рубль', 197)]"
            ]
          },
          "metadata": {
            "tags": []
          },
          "execution_count": 91
        }
      ]
    },
    {
      "cell_type": "code",
      "metadata": {
        "id": "YVW27K1BEWH1",
        "colab_type": "code",
        "outputId": "bf2daa48-f856-4066-e234-98c830420643",
        "colab": {
          "base_uri": "https://localhost:8080/",
          "height": 212
        }
      },
      "source": [
        "adjectives=[]\n",
        "for word in long_words:\n",
        "    f=morph.parse(word[0])[0]\n",
        "    if f.tag.POS=='ADJF' or f.tag.POS=='ADJS':\n",
        "        adjectives.append(word)\n",
        "print(len(adjectives))\n",
        "adjectives[-10:]"
      ],
      "execution_count": 0,
      "outputs": [
        {
          "output_type": "stream",
          "text": [
            "865\n"
          ],
          "name": "stdout"
        },
        {
          "output_type": "execute_result",
          "data": {
            "text/plain": [
              "[('российский', 45),\n",
              " ('доступный', 47),\n",
              " ('должный', 55),\n",
              " ('один', 61),\n",
              " ('открытый', 71),\n",
              " ('государственный', 71),\n",
              " ('этот', 79),\n",
              " ('весь', 84),\n",
              " ('который', 86),\n",
              " ('федеральный', 140)]"
            ]
          },
          "metadata": {
            "tags": []
          },
          "execution_count": 93
        }
      ]
    },
    {
      "cell_type": "code",
      "metadata": {
        "id": "EzQWlzzVFatR",
        "colab_type": "code",
        "colab": {}
      },
      "source": [
        ""
      ],
      "execution_count": 0,
      "outputs": []
    }
  ]
}